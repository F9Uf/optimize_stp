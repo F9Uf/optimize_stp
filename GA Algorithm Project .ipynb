{
 "cells": [
  {
   "cell_type": "code",
   "execution_count": 34,
   "metadata": {},
   "outputs": [
    {
     "name": "stdout",
     "output_type": "stream",
     "text": [
      "[14, 11, 10, 1, 3, 8, 4, 5, 7, 6, 0, 2, 12, 13, 9]\n",
      "[1, 12, 13, 7, 11, 0, 9, 6, 14, 5, 8, 10, 3, 2, 4]\n",
      "[4, 7, 14, 1, 5, 9, 3, 11, 0, 2, 12, 8, 13, 6, 10]\n",
      "[9, 11, 12, 13, 14, 10, 1, 3, 7, 8, 2, 0, 5, 4, 6]\n",
      "[11, 4, 2, 12, 7, 10, 9, 6, 1, 8, 5, 14, 0, 13, 3]\n",
      "[10, 13, 1, 2, 3, 14, 6, 8, 5, 12, 4, 9, 0, 11, 7]\n",
      "[11, 13, 14, 4, 8, 9, 1, 2, 0, 3, 7, 10, 6, 5, 12]\n",
      "[5, 6, 4, 12, 11, 8, 1, 10, 0, 9, 2, 14, 13, 7, 3]\n",
      "[5, 8, 6, 0, 13, 12, 1, 3, 11, 9, 4, 10, 2, 14, 7]\n",
      "[10, 11, 4, 1, 6, 9, 2, 3, 12, 14, 7, 8, 0, 5, 13]\n",
      "[([5, 8, 6, 0, 13, 12, 1, 3, 11, 9, 4, 10, 2, 14, 7], 3791), ([11, 13, 14, 4, 8, 9, 1, 2, 0, 3, 7, 10, 6, 5, 12], 4047), ([10, 11, 4, 1, 6, 9, 2, 3, 12, 14, 7, 8, 0, 5, 13], 4169), ([9, 11, 12, 13, 14, 10, 1, 3, 7, 8, 2, 0, 5, 4, 6], 4223), ([14, 11, 10, 1, 3, 8, 4, 5, 7, 6, 0, 2, 12, 13, 9], 4315), ([11, 4, 2, 12, 7, 10, 9, 6, 1, 8, 5, 14, 0, 13, 3], 4351), ([5, 6, 4, 12, 11, 8, 1, 10, 0, 9, 2, 14, 13, 7, 3], 4826), ([1, 12, 13, 7, 11, 0, 9, 6, 14, 5, 8, 10, 3, 2, 4], 5002), ([10, 13, 1, 2, 3, 14, 6, 8, 5, 12, 4, 9, 0, 11, 7], 5074), ([4, 7, 14, 1, 5, 9, 3, 11, 0, 2, 12, 8, 13, 6, 10], 5159)]\n"
     ]
    }
   ],
   "source": [
    "from random import shuffle\n",
    "\n",
    "data = [\n",
    "    [0,262,398,172,601,392,185,158,181,353,557,682,249,408,491], \n",
    "    [262,0,410,186,512,310,90,324,258,342,475,532,167,258,409], \n",
    "    [400,414,0,476,313,209,322,256,220,48,288,598,246,342,253], \n",
    "    [161,185,472,0,574,371,158,329,267,404,537,655,228,381,470],\n",
    "    [594,515,313,577,0,209,423,491,434,331,73,518,336,327,126],\n",
    "    [392,312,209,374,209,0,221,289,231,155,184,415,145,220,117],\n",
    "    [186,90,319,158,421,218,0,237,171,251,384,502,75,228,317],\n",
    "    [158,322,249,330,491,289,235,0,72,234,454,634,196,360,388],\n",
    "    [181,255,228,265,436,234,167,72,0,179,399,579,140,305,332],\n",
    "    [155,271,48,416,73,155,263,301,177,0,320,552,187,282,254],\n",
    "    [557,478,287,540,75,184,387,521,397,320,0,545,311,354,153],\n",
    "    [676,532,606,649,520,416,495,720,575,555,547,0,437,318,397],\n",
    "    [249,167,246,228,348,145,75,283,140,187,311,437,0,160,243],\n",
    "    [408,258,348,372,327,225,230,360,305,282,354,318,162,0,204],\n",
    "    [473,365,253,473,126,117,320,388,330,253,153,396,244,205,0] \n",
    "]\n",
    "\n",
    "def crossover():\n",
    "    return None\n",
    "\n",
    "def generateChromosome(n):\n",
    "    x = list(range(n))\n",
    "    shuffle(x)\n",
    "    return x\n",
    "\n",
    "def generatePopulation(M=10, N=15):\n",
    "    # M is populationsize (default 10)\n",
    "    # N is length of chromosome (default 15)\n",
    "    populations = [] # parent\n",
    "    while len(populations) < M:\n",
    "        newChromosome = generateChromosome(N)\n",
    "        if newChromosome not in populations:\n",
    "            populations.append(newChromosome)\n",
    "    return populations\n",
    "\n",
    "\n",
    "def calculateDistance(distance, chromosome):\n",
    "    d = 0\n",
    "    for i in range(len(chromosome) -1):\n",
    "        d += distance[chromosome[i]][chromosome[i+1]]\n",
    "    return d\n",
    "\n",
    "def tounamentSelection(chromosomes):\n",
    "    length = len(chromosomes)\n",
    "    distance_each_chromosome = []\n",
    "    for n in range(length):\n",
    "        distance_each_chromosome.append((chromosomes[n],calculateDistance(data, chromosomes[n])))\n",
    "    sorted_distance = sorted(distance_each_chromosome, key=lambda tup: tup[1])\n",
    "#     selected_one = distance_each_chromosome.index(min_distance)\n",
    "    return sorted_distance\n",
    "\n",
    "if __name__ == '__main__':\n",
    "    N = 15 # number of chromosome\n",
    "    pop_size = 10 # number of parent\n",
    "    generations = 5000 # number of generation\n",
    "    populations = generatePopulation(pop_size, N) # generate populations\n",
    "    select = tounamentSelection(populations)\n",
    "#     sorted =lkdsjflksjdl.sort()\n",
    "    for x in range(len(select)):\n",
    "        if x != 0:\n",
    "            child1, child2 = crossover(select[0], select[x])\n",
    "    print(*populations, sep='\\n')\n",
    "    print(select)\n",
    "   "
   ]
  },
  {
   "cell_type": "code",
   "execution_count": null,
   "metadata": {},
   "outputs": [],
   "source": []
  }
 ],
 "metadata": {
  "kernelspec": {
   "display_name": "Python 3",
   "language": "python",
   "name": "python3"
  },
  "language_info": {
   "codemirror_mode": {
    "name": "ipython",
    "version": 3
   },
   "file_extension": ".py",
   "mimetype": "text/x-python",
   "name": "python",
   "nbconvert_exporter": "python",
   "pygments_lexer": "ipython3",
   "version": "3.7.3"
  }
 },
 "nbformat": 4,
 "nbformat_minor": 2
}
