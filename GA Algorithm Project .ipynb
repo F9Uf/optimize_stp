{
 "cells": [
  {
   "cell_type": "code",
   "execution_count": null,
   "metadata": {},
   "outputs": [],
   "source": [
    "import time\n",
    "from multiprocessing import Pool\n",
    "\n",
    "data = [\n",
    "    [0,262,398,172,601,392,185,158,181,353,557,682,249,408,491], \n",
    "    [262,0,410,186,512,310,90,324,258,342,475,532,167,258,409], \n",
    "    [400,414,0,476,313,209,322,256,220,48,288,598,246,342,253], \n",
    "    [161,185,472,0,574,371,158,329,267,404,537,655,228,381,470],\n",
    "    [594,515,313,577,0,209,423,491,434,331,73,518,336,327,126],\n",
    "    [392,312,209,374,209,0,221,289,231,155,184,415,145,220,117],\n",
    "    [186,90,319,158,421,218,0,237,171,251,384,502,75,228,317],\n",
    "    [158,322,249,330,491,289,235,0,72,234,454,634,196,360,388],\n",
    "    [181,255,228,265,436,234,167,72,0,179,399,579,140,305,332],\n",
    "    [155,271,48,416,73,155,263,301,177,0,320,552,187,282,254],\n",
    "    [557,478,287,540,75,184,387,521,397,320,0,545,311,354,153],\n",
    "    [676,532,606,649,520,416,495,720,575,555,547,0,437,318,397],\n",
    "    [249,167,246,228,348,145,75,283,140,187,311,437,0,160,243],\n",
    "    [408,258,348,372,327,225,230,360,305,282,354,318,162,0,204],\n",
    "    [473,365,253,473,126,117,320,388,330,253,153,396,244,205,0] \n",
    "]\n",
    "\n",
    "\n",
    "def calculateDistance(distance, chomosome):\n",
    "    d = 0\n",
    "    for i in range(len(chomosome) - 1):\n",
    "        d += distance[chomosome[i]][chomosome[i+1]]\n",
    "    return d\n",
    "\n",
    "\n",
    "\n",
    "def brutforce_find_min_distance(distance):\n",
    "    import itertools\n",
    "    # make initial chromosome\n",
    "    l = [ x for x in range(len(distance))]\n",
    "    \n",
    "    minSolution = (0,[])\n",
    "    for solution in itertools.permutations(l):\n",
    "        solution = list(solution)\n",
    "        dist = calculateDistance(distance, solution)\n",
    "        if minSolution[0] == 0:\n",
    "            minSolution = (dist, solution)\n",
    "            del solution[:]\n",
    "            del solution\n",
    "        elif dist < minSolution[0]:\n",
    "            minSolution = (dist, solution)\n",
    "            \n",
    "    return minSolution\n",
    "pool = Pool(processes=4)\n",
    "n = 7 # <======================== change n to 15 here =============================\n",
    "dataMin = [x[:n] for x in data[:n]]\n",
    "start = time.time()\n",
    "\n",
    "# minDistance, chromosome = brutforce_find_min_distance(dataMin)\n",
    "for r in pool.map(brutforce_find_min_distance, dataMin):\n",
    "    print(r)\n",
    "end = time.time()\n",
    "# print('Shortest path is ' + str(chromosome) + ': ' + str(minDistance) + 'km')\n",
    "print('time: %8.10f s' % (end - start))\n"
   ]
  },
  {
   "cell_type": "code",
   "execution_count": 3,
   "metadata": {},
   "outputs": [
    {
     "name": "stdout",
     "output_type": "stream",
     "text": [
      "0\n",
      "1\n",
      "2\n"
     ]
    }
   ],
   "source": [
    "def printNum(n):\n",
    "    for i in range(n):\n",
    "        yield i\n",
    "        \n",
    "x = printNum(3)\n",
    "print(next(x))\n",
    "print(next(x))\n",
    "print(next(x))"
   ]
  }
 ],
 "metadata": {
  "kernelspec": {
   "display_name": "Python 3",
   "language": "python",
   "name": "python3"
  },
  "language_info": {
   "codemirror_mode": {
    "name": "ipython",
    "version": 3
   },
   "file_extension": ".py",
   "mimetype": "text/x-python",
   "name": "python",
   "nbconvert_exporter": "python",
   "pygments_lexer": "ipython3",
   "version": "3.7.3"
  }
 },
 "nbformat": 4,
 "nbformat_minor": 2
}
