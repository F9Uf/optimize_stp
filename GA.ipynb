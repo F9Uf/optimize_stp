{
 "cells": [
  {
   "cell_type": "code",
   "execution_count": 1,
   "metadata": {},
   "outputs": [],
   "source": [
    "# import library\n",
    "import matplotlib.pyplot as plt\n",
    "from random import randint, shuffle, sample, uniform"
   ]
  },
  {
   "cell_type": "code",
   "execution_count": 2,
   "metadata": {},
   "outputs": [],
   "source": [
    "class Chromosome:\n",
    "    def __init__(self, path, distance):\n",
    "        self.path = path\n",
    "        self.distance = distance\n",
    "        self.prob = 0\n",
    "        \n",
    "    def show(self):\n",
    "        return str(self.path) + '# ' + str(self.distance)\n",
    "        "
   ]
  },
  {
   "cell_type": "code",
   "execution_count": 3,
   "metadata": {},
   "outputs": [],
   "source": [
    "def calculateDistance(distance, chromosome):\n",
    "    d = 0\n",
    "    path = chromosome.path\n",
    "    for i in range(len(path) - 1):\n",
    "        d += distance[path[i]][path[i+1]]\n",
    "    return d"
   ]
  },
  {
   "cell_type": "code",
   "execution_count": 4,
   "metadata": {},
   "outputs": [],
   "source": [
    "def generatePath(n=15):\n",
    "    x = list(range(n))\n",
    "    shuffle(x)\n",
    "    return x"
   ]
  },
  {
   "cell_type": "code",
   "execution_count": 5,
   "metadata": {},
   "outputs": [],
   "source": [
    "def generatePopulation(m=10, n=15):\n",
    "    populations = []\n",
    "    while len(populations) < m:\n",
    "        path = generatePath(n)\n",
    "        newChromosome = Chromosome(path, 0)\n",
    "        if newChromosome not in populations:\n",
    "            populations.append(newChromosome)\n",
    "    return populations"
   ]
  },
  {
   "cell_type": "code",
   "execution_count": 6,
   "metadata": {},
   "outputs": [],
   "source": [
    "def calculatePopulationsDistance(data, populations):\n",
    "    temp_populations = []\n",
    "    for chromosome in populations:\n",
    "        distance = calculateDistance(data, chromosome)\n",
    "        chromosome.distance = distance\n",
    "        temp_populations.append(chromosome)\n",
    "    return temp_populations"
   ]
  },
  {
   "cell_type": "code",
   "execution_count": 7,
   "metadata": {},
   "outputs": [],
   "source": [
    "def crossover(parent1, parent2, N=15):\n",
    "    start = randint(1, N//2)\n",
    "    end = randint(N//2 + 1, N-1)\n",
    "    sub1, sub2 = parent1[start:end], parent2[start:end]\n",
    "    child1, child2 = parent1, parent2\n",
    "    parent1 = [x for x in parent1 if x not in sub2]\n",
    "    parent2 = [x for x in parent2 if x not in sub1]\n",
    "    child1 = parent2[:start] + sub1 + parent2[start:]\n",
    "    child2 = parent1[:start] + sub2 + parent1[start:]\n",
    "#     print(start, end)\n",
    "    return (child1, child2)"
   ]
  },
  {
   "cell_type": "code",
   "execution_count": 8,
   "metadata": {},
   "outputs": [],
   "source": [
    "def selection(populations, pop_size):\n",
    "    sumDistance = sum(1/c.distance for c in populations)\n",
    "    \n",
    "    sumProb = 0\n",
    "    for m in populations:\n",
    "        fitness = 1/m.distance\n",
    "        m.prob = sumProb + (fitness / sumDistance)\n",
    "        sumProb += (fitness/ sumDistance)\n",
    "    new_pop = []\n",
    "    for e in range(pop_size):\n",
    "        numberRandom = uniform(0,1)\n",
    "        new_pop.append([x for x in populations if x.prob >= numberRandom][0])\n",
    "        \n",
    "    return new_pop\n",
    "    "
   ]
  },
  {
   "cell_type": "code",
   "execution_count": 18,
   "metadata": {},
   "outputs": [],
   "source": [
    "def mutate(chromosome):\n",
    "    path = chromosome.path\n",
    "    point1, point2 = sample(range(len(path)),2)\n",
    "    path[point1], path[point2] = path[point2], path[point1]\n",
    "    chromosome.path = path\n",
    "    return chromosome\n",
    "    "
   ]
  },
  {
   "cell_type": "code",
   "execution_count": 21,
   "metadata": {},
   "outputs": [],
   "source": [
    "def GA(data, N=15, pop_size=100, generations=5000):\n",
    "    populations = generatePopulation(pop_size, N)\n",
    "    \n",
    "    \n",
    "    for gen in range(generations):\n",
    "        new_populations = []\n",
    "        bestChromosome = None\n",
    "        populations = calculatePopulationsDistance(data, populations)\n",
    "        populations = selection(populations, pop_size)\n",
    "#         populations = sorted(populations, key=lambda x: x.distance)\n",
    "        \n",
    "        for i in range(len(populations) - 1):\n",
    "            if bestChromosome == None or bestChromosome.distance > populations[i].distance:\n",
    "                bestChromosome = populations[i]\n",
    "                new_populations.append(bestChromosome)\n",
    "                if gen%500 == 0:\n",
    "                    print(\"gen\",gen, bestChromosome.show())\n",
    "                \n",
    "            child1, child2 = crossover(populations[i].path, populations[i+1].path, N)\n",
    "            chrom1, chrom2 = Chromosome(child1, 0), Chromosome(child2, 0)\n",
    "#             chrom1 = mutate(chrom1)\n",
    "#             chrom2 = mutate(chrom2)\n",
    "            \n",
    "            new_populations.append(chrom1)\n",
    "            new_populations.append(chrom2)\n",
    "            \n",
    "        populations = new_populations\n",
    "\n",
    "    populations = calculatePopulationsDistance(data, populations)\n",
    "    print(sorted(populations, key=lambda x: x.distance)[0].show())\n",
    "        "
   ]
  },
  {
   "cell_type": "code",
   "execution_count": 22,
   "metadata": {},
   "outputs": [
    {
     "name": "stdout",
     "output_type": "stream",
     "text": [
      "gen 0 [10, 0, 4, 3, 7, 2, 6, 1, 8, 9, 5, 11]# 3732\n",
      "gen 0 [10, 5, 6, 1, 3, 8, 11, 9, 0, 7, 2, 4]# 2957\n",
      "gen 0 [2, 5, 0, 3, 8, 9, 4, 10, 7, 6, 1, 11]# 2743\n",
      "gen 0 [11, 10, 4, 6, 1, 3, 9, 0, 8, 7, 2, 5]# 2591\n",
      "gen 500 [11, 5, 8, 6, 3, 7, 0, 9, 2, 10, 4, 1]# 2738\n",
      "gen 500 [2, 9, 4, 6, 8, 7, 0, 3, 1, 11, 5, 10]# 2434\n",
      "gen 500 [11, 10, 2, 7, 8, 9, 0, 3, 1, 6, 5, 4]# 2370\n",
      "gen 500 [4, 10, 2, 9, 8, 7, 0, 3, 1, 6, 5, 11]# 1895\n",
      "gen 1000 [5, 4, 6, 3, 2, 10, 0, 8, 7, 1, 9, 11]# 3576\n",
      "gen 1000 [5, 4, 10, 9, 3, 1, 0, 7, 2, 8, 6, 11]# 2761\n",
      "gen 1000 [4, 2, 9, 10, 1, 3, 0, 7, 8, 6, 5, 11]# 2536\n",
      "gen 1000 [10, 4, 9, 1, 6, 3, 0, 8, 2, 7, 5, 11]# 2455\n",
      "gen 1500 [2, 11, 6, 3, 5, 8, 0, 7, 9, 4, 10, 1]# 3050\n",
      "gen 1500 [4, 10, 8, 6, 2, 9, 0, 3, 7, 5, 1, 11]# 2793\n",
      "gen 1500 [11, 1, 6, 10, 7, 3, 0, 8, 5, 2, 9, 4]# 2763\n",
      "gen 1500 [10, 9, 5, 8, 2, 7, 0, 3, 1, 6, 4, 11]# 2734\n",
      "gen 1500 [11, 4, 10, 5, 8, 6, 0, 7, 2, 9, 1, 3]# 2273\n",
      "gen 1500 [10, 4, 11, 5, 8, 7, 0, 3, 1, 6, 9, 2]# 2216\n",
      "gen 2000 [4, 2, 7, 6, 3, 9, 0, 11, 1, 8, 10, 5]# 3576\n",
      "gen 2000 [10, 1, 3, 6, 8, 9, 0, 2, 7, 5, 4, 11]# 2997\n",
      "gen 2000 [1, 2, 7, 10, 4, 9, 0, 3, 6, 8, 5, 11]# 2831\n",
      "gen 2000 [10, 9, 4, 2, 5, 3, 0, 7, 8, 1, 6, 11]# 2527\n",
      "gen 2000 [2, 9, 4, 10, 1, 3, 0, 7, 5, 6, 8, 11]# 2437\n",
      "gen 2000 [11, 10, 4, 1, 6, 3, 0, 8, 7, 5, 9, 2]# 2291\n",
      "gen 2500 [3, 5, 10, 7, 1, 6, 0, 8, 9, 4, 2, 11]# 3018\n",
      "gen 2500 [4, 5, 10, 8, 7, 3, 0, 2, 9, 6, 1, 11]# 2684\n",
      "gen 2500 [5, 4, 2, 9, 8, 7, 0, 3, 6, 1, 10, 11]# 2417\n",
      "gen 2500 [1, 5, 9, 2, 8, 7, 0, 3, 6, 11, 4, 10]# 2388\n",
      "gen 2500 [4, 10, 1, 6, 8, 7, 0, 3, 2, 9, 5, 11]# 2304\n",
      "gen 2500 [10, 4, 2, 7, 8, 9, 0, 3, 6, 1, 5, 11]# 2195\n",
      "[5, 4, 10, 1, 6, 3, 0, 7, 8, 2, 9, 11]# 2227\n"
     ]
    }
   ],
   "source": [
    "data = [\n",
    "    [0,262,398,172,601,392,185,158,181,353,557,682,249,408,491], \n",
    "    [262,0,410,186,512,310,90,324,258,342,475,532,167,258,409], \n",
    "    [400,414,0,476,313,209,322,256,220,48,288,598,246,342,253], \n",
    "    [161,185,472,0,574,371,158,329,267,404,537,655,228,381,470],\n",
    "    [594,515,313,577,0,209,423,491,434,331,73,518,336,327,126],\n",
    "    [392,312,209,374,209,0,221,289,231,155,184,415,145,220,117],\n",
    "    [186,90,319,158,421,218,0,237,171,251,384,502,75,228,317],\n",
    "    [158,322,249,330,491,289,235,0,72,234,454,634,196,360,388],\n",
    "    [181,255,228,265,436,234,167,72,0,179,399,579,140,305,332],\n",
    "    [155,271,48,416,73,155,263,301,177,0,320,552,187,282,254],\n",
    "    [557,478,287,540,75,184,387,521,397,320,0,545,311,354,153],\n",
    "    [676,532,606,649,520,416,495,720,575,555,547,0,437,318,397],\n",
    "    [249,167,246,228,348,145,75,283,140,187,311,437,0,160,243],\n",
    "    [408,258,348,372,327,225,230,360,305,282,354,318,162,0,204],\n",
    "    [473,365,253,473,126,117,320,388,330,253,153,396,244,205,0] \n",
    "]\n",
    "N=12\n",
    "pop_size=500\n",
    "generations=3000\n",
    "\n",
    "GA(data,N , pop_size, generations)"
   ]
  },
  {
   "cell_type": "code",
   "execution_count": 349,
   "metadata": {},
   "outputs": [
    {
     "name": "stdout",
     "output_type": "stream",
     "text": [
      "1 13\n",
      "[11, 8, 6, 3, 1, 0, 7, 5, 2, 9, 4, 10]# 2197 [5, 2, 9, 4, 10, 11, 1, 0, 7, 8, 6, 3]# 2297\n"
     ]
    }
   ],
   "source": [
    "data = [\n",
    "    [0,262,398,172,601,392,185,158,181,353,557,682,249,408,491], \n",
    "    [262,0,410,186,512,310,90,324,258,342,475,532,167,258,409], \n",
    "    [400,414,0,476,313,209,322,256,220,48,288,598,246,342,253], \n",
    "    [161,185,472,0,574,371,158,329,267,404,537,655,228,381,470],\n",
    "    [594,515,313,577,0,209,423,491,434,331,73,518,336,327,126],\n",
    "    [392,312,209,374,209,0,221,289,231,155,184,415,145,220,117],\n",
    "    [186,90,319,158,421,218,0,237,171,251,384,502,75,228,317],\n",
    "    [158,322,249,330,491,289,235,0,72,234,454,634,196,360,388],\n",
    "    [181,255,228,265,436,234,167,72,0,179,399,579,140,305,332],\n",
    "    [155,271,48,416,73,155,263,301,177,0,320,552,187,282,254],\n",
    "    [557,478,287,540,75,184,387,521,397,320,0,545,311,354,153],\n",
    "    [676,532,606,649,520,416,495,720,575,555,547,0,437,318,397],\n",
    "    [249,167,246,228,348,145,75,283,140,187,311,437,0,160,243],\n",
    "    [408,258,348,372,327,225,230,360,305,282,354,318,162,0,204],\n",
    "    [473,365,253,473,126,117,320,388,330,253,153,396,244,205,0] \n",
    "]\n",
    "p1, p2 = [11, 8, 6, 3, 1, 0, 7, 5, 2, 9, 4, 10], [5, 2, 9, 4, 10, 11, 1, 0, 7, 8, 6, 3]\n",
    "child1, child2 = crossover(p1, p2, 15)\n",
    "child1, child2 = Chromosome(child1, 0), Chromosome(child2, 0)\n",
    "child1.distance = calculateDistance(data, child1)\n",
    "child2.distance = calculateDistance(data, child2)\n",
    "print(child1.show(), child2.show())"
   ]
  },
  {
   "cell_type": "code",
   "execution_count": 14,
   "metadata": {},
   "outputs": [
    {
     "name": "stdout",
     "output_type": "stream",
     "text": [
      "0 1\n",
      "2 3\n",
      "4 5\n",
      "6 7\n"
     ]
    }
   ],
   "source": [
    "sample([1,2,3,4,5,6,7,8,9,0,11,12,13,14,15,16], k=10)\n",
    "x = [1,2,3,4,5,6,7,89]\n",
    "x[:5]\n",
    "for i in range(0, (len(x) -1), 2):\n",
    "    print(i,i+1)\n"
   ]
  }
 ],
 "metadata": {
  "kernelspec": {
   "display_name": "Python 3",
   "language": "python",
   "name": "python3"
  },
  "language_info": {
   "codemirror_mode": {
    "name": "ipython",
    "version": 3
   },
   "file_extension": ".py",
   "mimetype": "text/x-python",
   "name": "python",
   "nbconvert_exporter": "python",
   "pygments_lexer": "ipython3",
   "version": "3.7.3"
  }
 },
 "nbformat": 4,
 "nbformat_minor": 2
}
