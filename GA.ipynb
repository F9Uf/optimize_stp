{
 "cells": [
  {
   "cell_type": "code",
   "execution_count": 2,
   "metadata": {},
   "outputs": [
    {
     "name": "stdout",
     "output_type": "stream",
     "text": [
      "4518\n"
     ]
    }
   ],
   "source": [
    "data = [\n",
    "    [0,262,398,172,601,392,185,158,181,353,557,682,249,408,491], \n",
    "    [262,0,410,186,512,310,90,324,258,342,475,532,167,258,409], \n",
    "    [400,414,0,476,313,209,322,256,220,48,288,598,246,342,253], \n",
    "    [161,185,472,0,574,371,158,329,267,404,537,655,228,381,470],\n",
    "    [594,515,313,577,0,209,423,491,434,331,73,518,336,327,126],\n",
    "    [392,312,209,374,209,0,221,289,231,155,184,415,145,220,117],\n",
    "    [186,90,319,158,421,218,0,237,171,251,384,502,75,228,317],\n",
    "    [158,322,249,330,491,289,235,0,72,234,454,634,196,360,388],\n",
    "    [181,255,228,265,436,234,167,72,0,179,399,579,140,305,332],\n",
    "    [155,271,48,416,73,155,263,301,177,0,320,552,187,282,254],\n",
    "    [557,478,287,540,75,184,387,521,397,320,0,545,311,354,153],\n",
    "    [676,532,606,649,520,416,495,720,575,555,547,0,437,318,397],\n",
    "    [249,167,246,228,348,145,75,283,140,187,311,437,0,160,243],\n",
    "    [408,258,348,372,327,225,230,360,305,282,354,318,162,0,204],\n",
    "    [473,365,253,473,126,117,320,388,330,253,153,396,244,205,0] \n",
    "]\n",
    "\n",
    "child = [1,2,4,5,3,8,7,6,10,9,11,12,0,14,13]\n",
    "\n",
    "distance = 0\n",
    "\n",
    "####  GA Algorithm #####\n",
    "for n in range(50):\n",
    "    for i in range(14):\n",
    "            row = child[i]\n",
    "            col = child[i+1]\n",
    "            distance[n][i] = distance[n][i] + data[row][col] \n",
    "        \n",
    "#### End GA Algorithm ####\n",
    "\n",
    "\n",
    "        \n",
    "print(dis)"
   ]
  },
  {
   "cell_type": "code",
   "execution_count": 268,
   "metadata": {},
   "outputs": [],
   "source": [
    "# import library\n",
    "from random import randint, shuffle, sample, uniform"
   ]
  },
  {
   "cell_type": "code",
   "execution_count": 147,
   "metadata": {},
   "outputs": [],
   "source": [
    "class Chromosome:\n",
    "    def __init__(self, path, distance):\n",
    "        self.path = path\n",
    "        self.distance = distance\n",
    "        self.prob = 0\n",
    "        \n",
    "    def show(self):\n",
    "        return str(self.path) + '# ' + str(self.distance)\n",
    "        "
   ]
  },
  {
   "cell_type": "code",
   "execution_count": 125,
   "metadata": {},
   "outputs": [],
   "source": [
    "def calculateDistance(distance, chromosome):\n",
    "    d = 0\n",
    "    path = chromosome.path\n",
    "    for i in range(len(path) - 1):\n",
    "        d += distance[path[i]][path[i+1]]\n",
    "    return d"
   ]
  },
  {
   "cell_type": "code",
   "execution_count": 126,
   "metadata": {},
   "outputs": [],
   "source": [
    "def generatePath(n=15):\n",
    "    x = list(range(n))\n",
    "    shuffle(x)\n",
    "    return x"
   ]
  },
  {
   "cell_type": "code",
   "execution_count": 127,
   "metadata": {},
   "outputs": [],
   "source": [
    "def generatePopulation(m=10, n=15):\n",
    "    populations = []\n",
    "    while len(populations) < m:\n",
    "        path = generatePath(n)\n",
    "        newChromosome = Chromosome(path, 0)\n",
    "        if newChromosome not in populations:\n",
    "            populations.append(newChromosome)\n",
    "    return populations"
   ]
  },
  {
   "cell_type": "code",
   "execution_count": 140,
   "metadata": {},
   "outputs": [],
   "source": [
    "def calculatePopulationsDistance(data, populations):\n",
    "    temp_populations = []\n",
    "    for chromosome in populations:\n",
    "        distance = calculateDistance(data, chromosome)\n",
    "        chromosome.distance = distance\n",
    "        temp_populations.append(chromosome)\n",
    "    return temp_populations"
   ]
  },
  {
   "cell_type": "code",
   "execution_count": 351,
   "metadata": {},
   "outputs": [],
   "source": [
    "def crossover(parent1, parent2, N=15):\n",
    "    start = randint(1, N//2)\n",
    "    end = randint(N//2 + 1, N-1)\n",
    "    sub1, sub2 = parent1[start:end], parent2[start:end]\n",
    "    child1, child2 = parent1, parent2\n",
    "    parent1 = [x for x in parent1 if x not in sub2]\n",
    "    parent2 = [x for x in parent2 if x not in sub1]\n",
    "    child1 = parent2[:start] + sub1 + parent2[start:]\n",
    "    child2 = parent1[:start] + sub2 + parent1[start:]\n",
    "#     print(start, end)\n",
    "    return (child1, child2)"
   ]
  },
  {
   "cell_type": "code",
   "execution_count": 278,
   "metadata": {},
   "outputs": [],
   "source": [
    "def selection(populations, pop_size):\n",
    "    sumDistance = sum(1/c.distance for c in populations)\n",
    "    \n",
    "    sumProb = 0\n",
    "    for m in populations:\n",
    "        fitness = 1/m.distance\n",
    "        m.prob = sumProb + (fitness / sumDistance)\n",
    "        sumProb += (fitness/ sumDistance)\n",
    "    new_pop = []\n",
    "    for e in range(pop_size):\n",
    "        numberRandom = uniform(0,1)\n",
    "        new_pop.append([x for x in populations if x.prob >= numberRandom][0])\n",
    "        \n",
    "    return new_pop\n",
    "    "
   ]
  },
  {
   "cell_type": "code",
   "execution_count": 367,
   "metadata": {},
   "outputs": [],
   "source": [
    "def GA(data, N=15, pop_size=100, generations=5000):\n",
    "    populations = generatePopulation(pop_size, N)\n",
    "    \n",
    "    \n",
    "    for gen in range(generations):\n",
    "        new_populations = []\n",
    "        bestChromosome = None\n",
    "        populations = calculatePopulationsDistance(data, populations)\n",
    "        populations = selection(populations, pop_size)\n",
    "#         populations = sorted(populations, key=lambda x: x.distance)\n",
    "        \n",
    "        for i in range(len(populations) - 1):\n",
    "            if bestChromosome == None or bestChromosome.distance > populations[i].distance:\n",
    "                bestChromosome = populations[i]\n",
    "                new_populations.append(bestChromosome)\n",
    "                if gen%500 == 0:\n",
    "                    print(\"gen\",gen, bestChromosome.show())\n",
    "                \n",
    "            child1, child2 = crossover(populations[i].path, populations[i+1].path, N)\n",
    "            chrom1, chrom2 = Chromosome(child1, 0), Chromosome(child2, 0)\n",
    "            \n",
    "            new_populations.append(chrom1)\n",
    "            new_populations.append(chrom2)\n",
    "            \n",
    "        populations = new_populations\n",
    "\n",
    "    populations = calculatePopulationsDistance(data, populations)\n",
    "    print(sorted(populations, key=lambda x: x.distance)[0].show())\n",
    "        "
   ]
  },
  {
   "cell_type": "code",
   "execution_count": 371,
   "metadata": {},
   "outputs": [
    {
     "name": "stdout",
     "output_type": "stream",
     "text": [
      "gen 0 [7, 11, 1, 5, 4, 10, 8, 9, 2, 6, 3, 0]# 3023\n",
      "gen 0 [1, 3, 8, 7, 2, 10, 4, 9, 6, 0, 5, 11]# 2724\n",
      "gen 0 [9, 4, 10, 7, 2, 5, 8, 1, 3, 0, 6, 11]# 2645\n",
      "gen 500 [0, 7, 5, 11, 1, 4, 10, 9, 2, 8, 3, 6]# 2990\n",
      "gen 500 [2, 11, 0, 7, 8, 9, 4, 10, 5, 3, 6, 1]# 2635\n",
      "gen 500 [11, 1, 6, 0, 2, 9, 10, 4, 5, 7, 8, 3]# 2484\n",
      "gen 500 [11, 1, 6, 8, 2, 5, 4, 10, 9, 0, 7, 3]# 2475\n",
      "gen 500 [0, 6, 3, 7, 8, 5, 10, 4, 2, 9, 1, 11]# 2401\n",
      "gen 500 [11, 6, 8, 7, 2, 10, 4, 5, 9, 0, 3, 1]# 2226\n",
      "gen 1000 [7, 1, 9, 2, 0, 10, 4, 5, 11, 8, 3, 6]# 3366\n",
      "gen 1000 [3, 9, 8, 7, 5, 4, 10, 0, 6, 2, 1, 11]# 3231\n",
      "gen 1000 [3, 6, 5, 8, 9, 10, 4, 11, 2, 0, 7, 1]# 3185\n",
      "gen 1000 [7, 5, 6, 3, 11, 10, 4, 2, 9, 8, 1, 0]# 3000\n",
      "gen 1000 [3, 6, 8, 9, 2, 10, 4, 7, 0, 11, 5, 1]# 2978\n",
      "gen 1000 [1, 7, 9, 8, 2, 5, 4, 10, 11, 6, 3, 0]# 2813\n",
      "gen 1000 [11, 2, 5, 6, 8, 9, 4, 10, 7, 0, 1, 3]# 2659\n",
      "gen 1000 [1, 6, 8, 2, 9, 4, 10, 11, 5, 0, 7, 3]# 2524\n",
      "gen 1000 [3, 0, 6, 5, 2, 9, 4, 10, 11, 1, 7, 8]# 2440\n",
      "gen 1000 [11, 5, 7, 6, 1, 9, 4, 10, 2, 8, 0, 3]# 2378\n",
      "gen 1000 [0, 3, 6, 8, 2, 9, 4, 10, 5, 7, 1, 11]# 2250\n",
      "gen 1000 [7, 0, 3, 8, 2, 9, 4, 10, 6, 1, 5, 11]# 2221\n",
      "gen 1500 [1, 3, 9, 5, 11, 0, 4, 10, 2, 6, 8, 7]# 3362\n",
      "gen 1500 [3, 1, 6, 9, 10, 5, 4, 11, 7, 8, 0, 2]# 3128\n",
      "gen 1500 [7, 11, 8, 9, 5, 10, 4, 6, 1, 3, 0, 2]# 3060\n",
      "gen 1500 [6, 0, 3, 1, 2, 10, 4, 7, 5, 9, 8, 11]# 3007\n",
      "gen 1500 [6, 8, 7, 2, 1, 9, 4, 10, 11, 5, 3, 0]# 2890\n",
      "gen 1500 [3, 11, 2, 8, 7, 9, 4, 10, 5, 0, 1, 6]# 2861\n",
      "gen 1500 [1, 8, 7, 11, 2, 9, 4, 10, 5, 3, 0, 6]# 2668\n",
      "gen 1500 [7, 5, 8, 9, 2, 10, 4, 11, 1, 6, 3, 0]# 2569\n",
      "gen 1500 [11, 0, 7, 8, 2, 9, 4, 10, 5, 3, 1, 6]# 2161\n",
      "gen 2000 [11, 6, 5, 9, 1, 2, 4, 10, 0, 8, 7, 3]# 3075\n",
      "gen 2000 [3, 6, 0, 1, 5, 9, 4, 8, 7, 2, 10, 11]# 2732\n",
      "gen 2000 [8, 6, 3, 7, 0, 1, 4, 10, 2, 9, 5, 11]# 2564\n",
      "gen 2000 [11, 6, 0, 7, 5, 9, 4, 10, 2, 8, 1, 3]# 2377\n",
      "gen 2000 [11, 6, 0, 8, 7, 9, 4, 10, 5, 2, 1, 3]# 2307\n",
      "gen 2500 [3, 0, 11, 2, 7, 9, 4, 10, 1, 6, 8, 5]# 3058\n",
      "gen 2500 [0, 3, 9, 2, 5, 8, 4, 10, 11, 1, 6, 7]# 2977\n",
      "gen 2500 [5, 6, 1, 3, 11, 10, 4, 9, 2, 8, 7, 0]# 2603\n",
      "gen 2500 [7, 8, 5, 10, 2, 9, 4, 11, 1, 6, 3, 0]# 2357\n",
      "[11, 0, 8, 7, 2, 9, 4, 10, 5, 1, 6, 3]# 2116\n"
     ]
    }
   ],
   "source": [
    "data = [\n",
    "    [0,262,398,172,601,392,185,158,181,353,557,682,249,408,491], \n",
    "    [262,0,410,186,512,310,90,324,258,342,475,532,167,258,409], \n",
    "    [400,414,0,476,313,209,322,256,220,48,288,598,246,342,253], \n",
    "    [161,185,472,0,574,371,158,329,267,404,537,655,228,381,470],\n",
    "    [594,515,313,577,0,209,423,491,434,331,73,518,336,327,126],\n",
    "    [392,312,209,374,209,0,221,289,231,155,184,415,145,220,117],\n",
    "    [186,90,319,158,421,218,0,237,171,251,384,502,75,228,317],\n",
    "    [158,322,249,330,491,289,235,0,72,234,454,634,196,360,388],\n",
    "    [181,255,228,265,436,234,167,72,0,179,399,579,140,305,332],\n",
    "    [155,271,48,416,73,155,263,301,177,0,320,552,187,282,254],\n",
    "    [557,478,287,540,75,184,387,521,397,320,0,545,311,354,153],\n",
    "    [676,532,606,649,520,416,495,720,575,555,547,0,437,318,397],\n",
    "    [249,167,246,228,348,145,75,283,140,187,311,437,0,160,243],\n",
    "    [408,258,348,372,327,225,230,360,305,282,354,318,162,0,204],\n",
    "    [473,365,253,473,126,117,320,388,330,253,153,396,244,205,0] \n",
    "]\n",
    "N=12\n",
    "pop_size=500\n",
    "generations=3000\n",
    "\n",
    "GA(data,N , pop_size, generations)"
   ]
  },
  {
   "cell_type": "code",
   "execution_count": 349,
   "metadata": {},
   "outputs": [
    {
     "name": "stdout",
     "output_type": "stream",
     "text": [
      "1 13\n",
      "[11, 8, 6, 3, 1, 0, 7, 5, 2, 9, 4, 10]# 2197 [5, 2, 9, 4, 10, 11, 1, 0, 7, 8, 6, 3]# 2297\n"
     ]
    }
   ],
   "source": [
    "data = [\n",
    "    [0,262,398,172,601,392,185,158,181,353,557,682,249,408,491], \n",
    "    [262,0,410,186,512,310,90,324,258,342,475,532,167,258,409], \n",
    "    [400,414,0,476,313,209,322,256,220,48,288,598,246,342,253], \n",
    "    [161,185,472,0,574,371,158,329,267,404,537,655,228,381,470],\n",
    "    [594,515,313,577,0,209,423,491,434,331,73,518,336,327,126],\n",
    "    [392,312,209,374,209,0,221,289,231,155,184,415,145,220,117],\n",
    "    [186,90,319,158,421,218,0,237,171,251,384,502,75,228,317],\n",
    "    [158,322,249,330,491,289,235,0,72,234,454,634,196,360,388],\n",
    "    [181,255,228,265,436,234,167,72,0,179,399,579,140,305,332],\n",
    "    [155,271,48,416,73,155,263,301,177,0,320,552,187,282,254],\n",
    "    [557,478,287,540,75,184,387,521,397,320,0,545,311,354,153],\n",
    "    [676,532,606,649,520,416,495,720,575,555,547,0,437,318,397],\n",
    "    [249,167,246,228,348,145,75,283,140,187,311,437,0,160,243],\n",
    "    [408,258,348,372,327,225,230,360,305,282,354,318,162,0,204],\n",
    "    [473,365,253,473,126,117,320,388,330,253,153,396,244,205,0] \n",
    "]\n",
    "p1, p2 = [11, 8, 6, 3, 1, 0, 7, 5, 2, 9, 4, 10], [5, 2, 9, 4, 10, 11, 1, 0, 7, 8, 6, 3]\n",
    "child1, child2 = crossover(p1, p2, 15)\n",
    "child1, child2 = Chromosome(child1, 0), Chromosome(child2, 0)\n",
    "child1.distance = calculateDistance(data, child1)\n",
    "child2.distance = calculateDistance(data, child2)\n",
    "print(child1.show(), child2.show())"
   ]
  },
  {
   "cell_type": "code",
   "execution_count": 204,
   "metadata": {},
   "outputs": [
    {
     "data": {
      "text/plain": [
       "[1, 2, 3, 4, 5]"
      ]
     },
     "execution_count": 204,
     "metadata": {},
     "output_type": "execute_result"
    }
   ],
   "source": [
    "sample([1,2,3,4,5,6,7,8,9,0,11,12,13,14,15,16], k=10)\n",
    "x = [1,2,3,4,5,6,7,89]\n",
    "x[:5]\n",
    "randin"
   ]
  }
 ],
 "metadata": {
  "kernelspec": {
   "display_name": "Python 3",
   "language": "python",
   "name": "python3"
  },
  "language_info": {
   "codemirror_mode": {
    "name": "ipython",
    "version": 3
   },
   "file_extension": ".py",
   "mimetype": "text/x-python",
   "name": "python",
   "nbconvert_exporter": "python",
   "pygments_lexer": "ipython3",
   "version": "3.7.3"
  }
 },
 "nbformat": 4,
 "nbformat_minor": 2
}
