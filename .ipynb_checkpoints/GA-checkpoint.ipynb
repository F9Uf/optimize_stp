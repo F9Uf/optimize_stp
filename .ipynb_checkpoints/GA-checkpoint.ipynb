{
 "cells": [
  {
   "cell_type": "code",
   "execution_count": 1,
   "metadata": {},
   "outputs": [],
   "source": [
    "# import library\n",
    "import matplotlib.pyplot as plt\n",
    "from random import randint, shuffle, sample, uniform"
   ]
  },
  {
   "cell_type": "code",
   "execution_count": 2,
   "metadata": {},
   "outputs": [],
   "source": [
    "class Chromosome:\n",
    "    def __init__(self, path, distance):\n",
    "        self.path = path\n",
    "        self.distance = distance\n",
    "        self.prob = 0\n",
    "        \n",
    "    def show(self):\n",
    "        return str(self.path) + '# ' + str(self.distance)\n",
    "        "
   ]
  },
  {
   "cell_type": "code",
   "execution_count": 3,
   "metadata": {},
   "outputs": [],
   "source": [
    "def calculateDistance(distance, chromosome):\n",
    "    d = 0\n",
    "    path = chromosome.path\n",
    "    for i in range(len(path) - 1):\n",
    "        d += distance[path[i]][path[i+1]]\n",
    "    return d"
   ]
  },
  {
   "cell_type": "code",
   "execution_count": 4,
   "metadata": {},
   "outputs": [],
   "source": [
    "def generatePath(n=15):\n",
    "    x = list(range(n))\n",
    "    shuffle(x)\n",
    "    return x"
   ]
  },
  {
   "cell_type": "code",
   "execution_count": 5,
   "metadata": {},
   "outputs": [],
   "source": [
    "def generatePopulation(m=10, n=15):\n",
    "    populations = []\n",
    "    while len(populations) < m:\n",
    "        path = generatePath(n)\n",
    "        newChromosome = Chromosome(path, 0)\n",
    "        if newChromosome not in populations:\n",
    "            populations.append(newChromosome)\n",
    "    return populations"
   ]
  },
  {
   "cell_type": "code",
   "execution_count": 6,
   "metadata": {},
   "outputs": [],
   "source": [
    "def calculatePopulationsDistance(data, populations):\n",
    "    temp_populations = []\n",
    "    for chromosome in populations:\n",
    "        distance = calculateDistance(data, chromosome)\n",
    "        chromosome.distance = distance\n",
    "        temp_populations.append(chromosome)\n",
    "    return temp_populations"
   ]
  },
  {
   "cell_type": "code",
   "execution_count": 7,
   "metadata": {},
   "outputs": [],
   "source": [
    "def crossover(parent1, parent2, N=15):\n",
    "    start = randint(1, N//2)\n",
    "    end = randint(N//2 + 1, N-1)\n",
    "    sub1, sub2 = parent1[start:end], parent2[start:end]\n",
    "    child1, child2 = parent1, parent2\n",
    "    parent1 = [x for x in parent1 if x not in sub2]\n",
    "    parent2 = [x for x in parent2 if x not in sub1]\n",
    "    child1 = parent2[:start] + sub1 + parent2[start:]\n",
    "    child2 = parent1[:start] + sub2 + parent1[start:]\n",
    "#     print(start, end)\n",
    "    return (child1, child2)"
   ]
  },
  {
   "cell_type": "code",
   "execution_count": 8,
   "metadata": {},
   "outputs": [],
   "source": [
    "def selection(populations, pop_size):\n",
    "    sumDistance = sum(1/c.distance for c in populations)\n",
    "    \n",
    "    sumProb = 0\n",
    "    for m in populations:\n",
    "        fitness = 1/m.distance\n",
    "        m.prob = sumProb + (fitness / sumDistance)\n",
    "        sumProb += (fitness/ sumDistance)\n",
    "    new_pop = []\n",
    "    for e in range(pop_size):\n",
    "        numberRandom = uniform(0,1)\n",
    "        new_pop.append([x for x in populations if x.prob >= numberRandom][0])\n",
    "        \n",
    "    return new_pop\n",
    "    "
   ]
  },
  {
   "cell_type": "code",
   "execution_count": 18,
   "metadata": {},
   "outputs": [],
   "source": [
    "def mutate(chromosome):\n",
    "    path = chromosome.path\n",
    "    point1, point2 = sample(range(len(path)),2)\n",
    "    path[point1], path[point2] = path[point2], path[point1]\n",
    "    chromosome.path = path\n",
    "    return chromosome\n",
    "    "
   ]
  },
  {
   "cell_type": "code",
   "execution_count": 19,
   "metadata": {},
   "outputs": [],
   "source": [
    "def GA(data, N=15, pop_size=100, generations=5000):\n",
    "    populations = generatePopulation(pop_size, N)\n",
    "    \n",
    "    \n",
    "    for gen in range(generations):\n",
    "        new_populations = []\n",
    "        bestChromosome = None\n",
    "        populations = calculatePopulationsDistance(data, populations)\n",
    "        populations = selection(populations, pop_size)\n",
    "#         populations = sorted(populations, key=lambda x: x.distance)\n",
    "        \n",
    "        for i in range(len(populations) - 1):\n",
    "            if bestChromosome == None or bestChromosome.distance > populations[i].distance:\n",
    "                bestChromosome = populations[i]\n",
    "                new_populations.append(bestChromosome)\n",
    "                if gen%500 == 0:\n",
    "                    print(\"gen\",gen, bestChromosome.show())\n",
    "                \n",
    "            child1, child2 = crossover(populations[i].path, populations[i+1].path, N)\n",
    "            chrom1, chrom2 = Chromosome(child1, 0), Chromosome(child2, 0)\n",
    "#             chrom1 = mutate(chrom1)\n",
    "#             chrom2 = mutate(chrom2)\n",
    "            \n",
    "            new_populations.append(chrom1)\n",
    "            new_populations.append(chrom2)\n",
    "            \n",
    "        populations = new_populations\n",
    "\n",
    "    populations = calculatePopulationsDistance(data, populations)\n",
    "    print(sorted(populations, key=lambda x: x.distance)[0].show())\n",
    "        "
   ]
  },
  {
   "cell_type": "code",
   "execution_count": 20,
   "metadata": {},
   "outputs": [
    {
     "name": "stdout",
     "output_type": "stream",
     "text": [
      "gen 0 [4, 2, 6, 7, 5, 3, 9, 1, 0, 11, 8, 10]# 4128\n",
      "gen 0 [3, 1, 8, 0, 5, 9, 6, 2, 10, 4, 7, 11]# 3241\n",
      "gen 0 [9, 2, 6, 3, 1, 0, 7, 5, 8, 10, 11, 4]# 3117\n",
      "gen 0 [10, 1, 11, 2, 9, 4, 5, 8, 6, 7, 0, 3]# 2911\n",
      "gen 0 [0, 1, 6, 7, 2, 8, 3, 9, 5, 11, 4, 10]# 2890\n",
      "gen 0 [8, 7, 3, 9, 2, 5, 10, 4, 6, 0, 1, 11]# 2725\n",
      "gen 0 [11, 0, 2, 4, 10, 5, 9, 1, 3, 6, 8, 7]# 2657\n",
      "gen 0 [3, 0, 7, 9, 2, 10, 5, 4, 11, 8, 6, 1]# 2632\n",
      "gen 500 [1, 3, 4, 5, 6, 7, 9, 0, 2, 8, 11, 10]# 3560\n",
      "gen 500 [11, 1, 7, 6, 9, 4, 2, 10, 5, 8, 0, 3]# 2784\n",
      "gen 500 [11, 10, 5, 4, 6, 1, 7, 8, 2, 9, 0, 3]# 2452\n",
      "gen 500 [11, 10, 2, 9, 4, 5, 8, 7, 6, 1, 0, 3]# 2226\n",
      "gen 1000 [0, 5, 9, 4, 10, 8, 2, 7, 11, 3, 6, 1]# 3105\n",
      "gen 1000 [10, 5, 2, 0, 1, 8, 6, 3, 7, 9, 4, 11]# 2792\n",
      "gen 1000 [0, 10, 2, 9, 4, 5, 1, 3, 7, 8, 6, 11]# 2742\n",
      "gen 1000 [9, 4, 10, 2, 5, 7, 6, 3, 8, 0, 1, 11]# 2566\n",
      "gen 1000 [10, 6, 1, 3, 0, 7, 8, 2, 9, 5, 4, 11]# 2212\n",
      "gen 1500 [6, 11, 7, 3, 10, 8, 4, 2, 9, 0, 5, 1]# 4142\n",
      "gen 1500 [7, 6, 11, 3, 9, 4, 1, 5, 2, 10, 0, 8]# 3923\n",
      "gen 1500 [4, 5, 11, 1, 7, 9, 2, 3, 0, 6, 8, 10]# 3154\n",
      "gen 1500 [10, 5, 11, 4, 1, 6, 3, 7, 9, 2, 0, 8]# 3074\n",
      "gen 1500 [11, 5, 10, 2, 8, 0, 7, 4, 9, 1, 6, 3]# 2787\n",
      "gen 1500 [10, 4, 3, 1, 6, 2, 9, 0, 7, 5, 8, 11]# 2706\n",
      "gen 1500 [1, 6, 10, 4, 9, 2, 5, 11, 3, 0, 8, 7]# 2615\n",
      "gen 2000 [1, 4, 8, 6, 0, 11, 2, 3, 5, 9, 10, 7]# 4430\n",
      "gen 2000 [1, 6, 3, 2, 0, 8, 7, 5, 9, 11, 10, 4]# 2991\n",
      "gen 2000 [11, 10, 5, 4, 9, 6, 8, 3, 1, 0, 7, 2]# 2824\n",
      "gen 2000 [11, 10, 4, 5, 2, 9, 3, 6, 7, 1, 0, 8]# 2664\n",
      "gen 2500 [0, 6, 4, 2, 7, 1, 8, 5, 9, 11, 10, 3]# 3783\n",
      "gen 2500 [0, 6, 10, 5, 2, 9, 11, 1, 3, 4, 7, 8]# 3417\n",
      "gen 2500 [7, 5, 3, 1, 11, 9, 0, 6, 10, 4, 2, 8]# 3267\n",
      "gen 2500 [1, 2, 5, 10, 4, 8, 0, 7, 6, 9, 3, 11]# 3208\n",
      "gen 2500 [2, 9, 4, 5, 7, 10, 11, 6, 3, 8, 1, 0]# 3055\n",
      "gen 2500 [7, 9, 2, 4, 5, 11, 8, 0, 6, 1, 3, 10]# 2973\n",
      "gen 2500 [2, 4, 10, 11, 5, 3, 6, 8, 7, 0, 1, 9]# 2884\n",
      "gen 2500 [11, 3, 0, 7, 8, 1, 9, 4, 6, 2, 5, 10]# 2845\n",
      "gen 2500 [7, 11, 10, 5, 2, 9, 4, 8, 0, 6, 3, 1]# 2838\n",
      "gen 2500 [2, 9, 4, 5, 10, 7, 8, 6, 3, 1, 0, 11]# 2561\n",
      "gen 2500 [11, 3, 0, 7, 8, 1, 9, 4, 10, 5, 6, 2]# 2507\n"
     ]
    },
    {
     "ename": "KeyboardInterrupt",
     "evalue": "",
     "output_type": "error",
     "traceback": [
      "\u001b[1;31m---------------------------------------------------------------------------\u001b[0m",
      "\u001b[1;31mKeyboardInterrupt\u001b[0m                         Traceback (most recent call last)",
      "\u001b[1;32m<ipython-input-20-354b41ff059e>\u001b[0m in \u001b[0;36m<module>\u001b[1;34m\u001b[0m\n\u001b[0;32m     20\u001b[0m \u001b[0mgenerations\u001b[0m\u001b[1;33m=\u001b[0m\u001b[1;36m3000\u001b[0m\u001b[1;33m\u001b[0m\u001b[1;33m\u001b[0m\u001b[0m\n\u001b[0;32m     21\u001b[0m \u001b[1;33m\u001b[0m\u001b[0m\n\u001b[1;32m---> 22\u001b[1;33m \u001b[0mGA\u001b[0m\u001b[1;33m(\u001b[0m\u001b[0mdata\u001b[0m\u001b[1;33m,\u001b[0m\u001b[0mN\u001b[0m \u001b[1;33m,\u001b[0m \u001b[0mpop_size\u001b[0m\u001b[1;33m,\u001b[0m \u001b[0mgenerations\u001b[0m\u001b[1;33m)\u001b[0m\u001b[1;33m\u001b[0m\u001b[1;33m\u001b[0m\u001b[0m\n\u001b[0m",
      "\u001b[1;32m<ipython-input-19-92d2017f9174>\u001b[0m in \u001b[0;36mGA\u001b[1;34m(data, N, pop_size, generations)\u001b[0m\n\u001b[0;32m      7\u001b[0m         \u001b[0mbestChromosome\u001b[0m \u001b[1;33m=\u001b[0m \u001b[1;32mNone\u001b[0m\u001b[1;33m\u001b[0m\u001b[1;33m\u001b[0m\u001b[0m\n\u001b[0;32m      8\u001b[0m         \u001b[0mpopulations\u001b[0m \u001b[1;33m=\u001b[0m \u001b[0mcalculatePopulationsDistance\u001b[0m\u001b[1;33m(\u001b[0m\u001b[0mdata\u001b[0m\u001b[1;33m,\u001b[0m \u001b[0mpopulations\u001b[0m\u001b[1;33m)\u001b[0m\u001b[1;33m\u001b[0m\u001b[1;33m\u001b[0m\u001b[0m\n\u001b[1;32m----> 9\u001b[1;33m         \u001b[0mpopulations\u001b[0m \u001b[1;33m=\u001b[0m \u001b[0mselection\u001b[0m\u001b[1;33m(\u001b[0m\u001b[0mpopulations\u001b[0m\u001b[1;33m,\u001b[0m \u001b[0mpop_size\u001b[0m\u001b[1;33m)\u001b[0m\u001b[1;33m\u001b[0m\u001b[1;33m\u001b[0m\u001b[0m\n\u001b[0m\u001b[0;32m     10\u001b[0m \u001b[1;31m#         populations = sorted(populations, key=lambda x: x.distance)\u001b[0m\u001b[1;33m\u001b[0m\u001b[1;33m\u001b[0m\u001b[1;33m\u001b[0m\u001b[0m\n\u001b[0;32m     11\u001b[0m \u001b[1;33m\u001b[0m\u001b[0m\n",
      "\u001b[1;32m<ipython-input-8-ecfd138359dd>\u001b[0m in \u001b[0;36mselection\u001b[1;34m(populations, pop_size)\u001b[0m\n\u001b[0;32m     10\u001b[0m     \u001b[1;32mfor\u001b[0m \u001b[0me\u001b[0m \u001b[1;32min\u001b[0m \u001b[0mrange\u001b[0m\u001b[1;33m(\u001b[0m\u001b[0mpop_size\u001b[0m\u001b[1;33m)\u001b[0m\u001b[1;33m:\u001b[0m\u001b[1;33m\u001b[0m\u001b[1;33m\u001b[0m\u001b[0m\n\u001b[0;32m     11\u001b[0m         \u001b[0mnumberRandom\u001b[0m \u001b[1;33m=\u001b[0m \u001b[0muniform\u001b[0m\u001b[1;33m(\u001b[0m\u001b[1;36m0\u001b[0m\u001b[1;33m,\u001b[0m\u001b[1;36m1\u001b[0m\u001b[1;33m)\u001b[0m\u001b[1;33m\u001b[0m\u001b[1;33m\u001b[0m\u001b[0m\n\u001b[1;32m---> 12\u001b[1;33m         \u001b[0mnew_pop\u001b[0m\u001b[1;33m.\u001b[0m\u001b[0mappend\u001b[0m\u001b[1;33m(\u001b[0m\u001b[1;33m[\u001b[0m\u001b[0mx\u001b[0m \u001b[1;32mfor\u001b[0m \u001b[0mx\u001b[0m \u001b[1;32min\u001b[0m \u001b[0mpopulations\u001b[0m \u001b[1;32mif\u001b[0m \u001b[0mx\u001b[0m\u001b[1;33m.\u001b[0m\u001b[0mprob\u001b[0m \u001b[1;33m>=\u001b[0m \u001b[0mnumberRandom\u001b[0m\u001b[1;33m]\u001b[0m\u001b[1;33m[\u001b[0m\u001b[1;36m0\u001b[0m\u001b[1;33m]\u001b[0m\u001b[1;33m)\u001b[0m\u001b[1;33m\u001b[0m\u001b[1;33m\u001b[0m\u001b[0m\n\u001b[0m\u001b[0;32m     13\u001b[0m \u001b[1;33m\u001b[0m\u001b[0m\n\u001b[0;32m     14\u001b[0m     \u001b[1;32mreturn\u001b[0m \u001b[0mnew_pop\u001b[0m\u001b[1;33m\u001b[0m\u001b[1;33m\u001b[0m\u001b[0m\n",
      "\u001b[1;32m<ipython-input-8-ecfd138359dd>\u001b[0m in \u001b[0;36m<listcomp>\u001b[1;34m(.0)\u001b[0m\n\u001b[0;32m     10\u001b[0m     \u001b[1;32mfor\u001b[0m \u001b[0me\u001b[0m \u001b[1;32min\u001b[0m \u001b[0mrange\u001b[0m\u001b[1;33m(\u001b[0m\u001b[0mpop_size\u001b[0m\u001b[1;33m)\u001b[0m\u001b[1;33m:\u001b[0m\u001b[1;33m\u001b[0m\u001b[1;33m\u001b[0m\u001b[0m\n\u001b[0;32m     11\u001b[0m         \u001b[0mnumberRandom\u001b[0m \u001b[1;33m=\u001b[0m \u001b[0muniform\u001b[0m\u001b[1;33m(\u001b[0m\u001b[1;36m0\u001b[0m\u001b[1;33m,\u001b[0m\u001b[1;36m1\u001b[0m\u001b[1;33m)\u001b[0m\u001b[1;33m\u001b[0m\u001b[1;33m\u001b[0m\u001b[0m\n\u001b[1;32m---> 12\u001b[1;33m         \u001b[0mnew_pop\u001b[0m\u001b[1;33m.\u001b[0m\u001b[0mappend\u001b[0m\u001b[1;33m(\u001b[0m\u001b[1;33m[\u001b[0m\u001b[0mx\u001b[0m \u001b[1;32mfor\u001b[0m \u001b[0mx\u001b[0m \u001b[1;32min\u001b[0m \u001b[0mpopulations\u001b[0m \u001b[1;32mif\u001b[0m \u001b[0mx\u001b[0m\u001b[1;33m.\u001b[0m\u001b[0mprob\u001b[0m \u001b[1;33m>=\u001b[0m \u001b[0mnumberRandom\u001b[0m\u001b[1;33m]\u001b[0m\u001b[1;33m[\u001b[0m\u001b[1;36m0\u001b[0m\u001b[1;33m]\u001b[0m\u001b[1;33m)\u001b[0m\u001b[1;33m\u001b[0m\u001b[1;33m\u001b[0m\u001b[0m\n\u001b[0m\u001b[0;32m     13\u001b[0m \u001b[1;33m\u001b[0m\u001b[0m\n\u001b[0;32m     14\u001b[0m     \u001b[1;32mreturn\u001b[0m \u001b[0mnew_pop\u001b[0m\u001b[1;33m\u001b[0m\u001b[1;33m\u001b[0m\u001b[0m\n",
      "\u001b[1;31mKeyboardInterrupt\u001b[0m: "
     ]
    }
   ],
   "source": [
    "data = [\n",
    "    [0,262,398,172,601,392,185,158,181,353,557,682,249,408,491], \n",
    "    [262,0,410,186,512,310,90,324,258,342,475,532,167,258,409], \n",
    "    [400,414,0,476,313,209,322,256,220,48,288,598,246,342,253], \n",
    "    [161,185,472,0,574,371,158,329,267,404,537,655,228,381,470],\n",
    "    [594,515,313,577,0,209,423,491,434,331,73,518,336,327,126],\n",
    "    [392,312,209,374,209,0,221,289,231,155,184,415,145,220,117],\n",
    "    [186,90,319,158,421,218,0,237,171,251,384,502,75,228,317],\n",
    "    [158,322,249,330,491,289,235,0,72,234,454,634,196,360,388],\n",
    "    [181,255,228,265,436,234,167,72,0,179,399,579,140,305,332],\n",
    "    [155,271,48,416,73,155,263,301,177,0,320,552,187,282,254],\n",
    "    [557,478,287,540,75,184,387,521,397,320,0,545,311,354,153],\n",
    "    [676,532,606,649,520,416,495,720,575,555,547,0,437,318,397],\n",
    "    [249,167,246,228,348,145,75,283,140,187,311,437,0,160,243],\n",
    "    [408,258,348,372,327,225,230,360,305,282,354,318,162,0,204],\n",
    "    [473,365,253,473,126,117,320,388,330,253,153,396,244,205,0] \n",
    "]\n",
    "N=12\n",
    "pop_size=500\n",
    "generations=3000\n",
    "\n",
    "GA(data,N , pop_size, generations)"
   ]
  },
  {
   "cell_type": "code",
   "execution_count": 349,
   "metadata": {},
   "outputs": [
    {
     "name": "stdout",
     "output_type": "stream",
     "text": [
      "1 13\n",
      "[11, 8, 6, 3, 1, 0, 7, 5, 2, 9, 4, 10]# 2197 [5, 2, 9, 4, 10, 11, 1, 0, 7, 8, 6, 3]# 2297\n"
     ]
    }
   ],
   "source": [
    "data = [\n",
    "    [0,262,398,172,601,392,185,158,181,353,557,682,249,408,491], \n",
    "    [262,0,410,186,512,310,90,324,258,342,475,532,167,258,409], \n",
    "    [400,414,0,476,313,209,322,256,220,48,288,598,246,342,253], \n",
    "    [161,185,472,0,574,371,158,329,267,404,537,655,228,381,470],\n",
    "    [594,515,313,577,0,209,423,491,434,331,73,518,336,327,126],\n",
    "    [392,312,209,374,209,0,221,289,231,155,184,415,145,220,117],\n",
    "    [186,90,319,158,421,218,0,237,171,251,384,502,75,228,317],\n",
    "    [158,322,249,330,491,289,235,0,72,234,454,634,196,360,388],\n",
    "    [181,255,228,265,436,234,167,72,0,179,399,579,140,305,332],\n",
    "    [155,271,48,416,73,155,263,301,177,0,320,552,187,282,254],\n",
    "    [557,478,287,540,75,184,387,521,397,320,0,545,311,354,153],\n",
    "    [676,532,606,649,520,416,495,720,575,555,547,0,437,318,397],\n",
    "    [249,167,246,228,348,145,75,283,140,187,311,437,0,160,243],\n",
    "    [408,258,348,372,327,225,230,360,305,282,354,318,162,0,204],\n",
    "    [473,365,253,473,126,117,320,388,330,253,153,396,244,205,0] \n",
    "]\n",
    "p1, p2 = [11, 8, 6, 3, 1, 0, 7, 5, 2, 9, 4, 10], [5, 2, 9, 4, 10, 11, 1, 0, 7, 8, 6, 3]\n",
    "child1, child2 = crossover(p1, p2, 15)\n",
    "child1, child2 = Chromosome(child1, 0), Chromosome(child2, 0)\n",
    "child1.distance = calculateDistance(data, child1)\n",
    "child2.distance = calculateDistance(data, child2)\n",
    "print(child1.show(), child2.show())"
   ]
  },
  {
   "cell_type": "code",
   "execution_count": 14,
   "metadata": {},
   "outputs": [
    {
     "name": "stdout",
     "output_type": "stream",
     "text": [
      "0 1\n",
      "2 3\n",
      "4 5\n",
      "6 7\n"
     ]
    }
   ],
   "source": [
    "sample([1,2,3,4,5,6,7,8,9,0,11,12,13,14,15,16], k=10)\n",
    "x = [1,2,3,4,5,6,7,89]\n",
    "x[:5]\n",
    "for i in range(0, (len(x) -1), 2):\n",
    "    print(i,i+1)\n"
   ]
  }
 ],
 "metadata": {
  "kernelspec": {
   "display_name": "Python 3",
   "language": "python",
   "name": "python3"
  },
  "language_info": {
   "codemirror_mode": {
    "name": "ipython",
    "version": 3
   },
   "file_extension": ".py",
   "mimetype": "text/x-python",
   "name": "python",
   "nbconvert_exporter": "python",
   "pygments_lexer": "ipython3",
   "version": "3.7.3"
  }
 },
 "nbformat": 4,
 "nbformat_minor": 2
}
